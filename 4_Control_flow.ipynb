{
 "cells": [
  {
   "cell_type": "markdown",
   "id": "2668bf6a",
   "metadata": {},
   "source": [
    "# Control Flow"
   ]
  },
  {
   "cell_type": "markdown",
   "id": "ea2120fd",
   "metadata": {},
   "source": [
    "## if/else Statements"
   ]
  },
  {
   "cell_type": "code",
   "execution_count": 4,
   "id": "79f5a030",
   "metadata": {},
   "outputs": [
    {
     "name": "stdout",
     "output_type": "stream",
     "text": [
      "It is true\n",
      "also it is\n",
      "Nishi Gandhi\n"
     ]
    }
   ],
   "source": [
    "a = True\n",
    "if a:\n",
    "    print('It is true')\n",
    "    print('also it is')\n",
    "else:\n",
    "    print('else statement')\n",
    "print('Nishi Gandhi')"
   ]
  },
  {
   "cell_type": "code",
   "execution_count": 5,
   "id": "faa50e00",
   "metadata": {},
   "outputs": [
    {
     "name": "stdout",
     "output_type": "stream",
     "text": [
      "else statement\n",
      "Nishi Gandhi\n"
     ]
    }
   ],
   "source": [
    "a = False\n",
    "if a:\n",
    "    print('It is true')\n",
    "    print('also it is')\n",
    "else:\n",
    "    print('else statement')\n",
    "print('Nishi Gandhi')"
   ]
  },
  {
   "cell_type": "code",
   "execution_count": 17,
   "id": "c97a7d5c",
   "metadata": {},
   "outputs": [
    {
     "name": "stdout",
     "output_type": "stream",
     "text": [
      "It is true\n",
      "also it is\n",
      "C excuted\n",
      "Nishi Gandhi\n"
     ]
    }
   ],
   "source": [
    "a = True\n",
    "b = False\n",
    "c = True\n",
    "if a:\n",
    "    print('It is true')\n",
    "    print('also it is')\n",
    "    if b:\n",
    "        print('b excuted')\n",
    "if c:\n",
    "    print('C excuted')\n",
    "else:\n",
    "    print('else statement')\n",
    "print('Nishi Gandhi')"
   ]
  },
  {
   "cell_type": "markdown",
   "id": "ae0b74ce",
   "metadata": {},
   "source": [
    "## For loops"
   ]
  },
  {
   "cell_type": "code",
   "execution_count": 26,
   "id": "3ed252f1",
   "metadata": {},
   "outputs": [
    {
     "name": "stdout",
     "output_type": "stream",
     "text": [
      "1\n",
      "2\n",
      "3\n",
      "4\n",
      "5\n",
      "False\n",
      "c\n"
     ]
    }
   ],
   "source": [
    "a = [1,2,3,4,5,b,'c']\n",
    "\n",
    "for item in a:\n",
    "    print(item)"
   ]
  },
  {
   "cell_type": "code",
   "execution_count": 27,
   "id": "62a24d68",
   "metadata": {},
   "outputs": [
    {
     "data": {
      "text/plain": [
       "True"
      ]
     },
     "execution_count": 27,
     "metadata": {},
     "output_type": "execute_result"
    }
   ],
   "source": [
    "b in a"
   ]
  },
  {
   "cell_type": "code",
   "execution_count": null,
   "id": "1b10497a",
   "metadata": {},
   "outputs": [],
   "source": []
  },
  {
   "cell_type": "markdown",
   "id": "b97243ed",
   "metadata": {},
   "source": [
    "## While loops"
   ]
  },
  {
   "cell_type": "code",
   "execution_count": 34,
   "id": "dd676575",
   "metadata": {},
   "outputs": [
    {
     "name": "stdout",
     "output_type": "stream",
     "text": [
      "0\n",
      "1\n",
      "2\n",
      "3\n",
      "4\n",
      "5\n",
      "6\n"
     ]
    }
   ],
   "source": [
    "a = 0\n",
    "while  a < 7:\n",
    "    print(a)\n",
    "    a=a+1"
   ]
  },
  {
   "cell_type": "code",
   "execution_count": null,
   "id": "3cc1d558",
   "metadata": {},
   "outputs": [],
   "source": []
  },
  {
   "cell_type": "code",
   "execution_count": null,
   "id": "65972b99",
   "metadata": {},
   "outputs": [],
   "source": []
  }
 ],
 "metadata": {
  "kernelspec": {
   "display_name": "Python 3 (ipykernel)",
   "language": "python",
   "name": "python3"
  },
  "language_info": {
   "codemirror_mode": {
    "name": "ipython",
    "version": 3
   },
   "file_extension": ".py",
   "mimetype": "text/x-python",
   "name": "python",
   "nbconvert_exporter": "python",
   "pygments_lexer": "ipython3",
   "version": "3.11.2"
  }
 },
 "nbformat": 4,
 "nbformat_minor": 5
}
