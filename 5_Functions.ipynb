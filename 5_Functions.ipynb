{
 "cells": [
  {
   "cell_type": "code",
   "execution_count": 1,
   "id": "68f109a3",
   "metadata": {},
   "outputs": [
    {
     "name": "stdout",
     "output_type": "stream",
     "text": [
      "Nishi , Gandhi\n"
     ]
    }
   ],
   "source": [
    "print('Nishi , Gandhi')"
   ]
  },
  {
   "cell_type": "code",
   "execution_count": 7,
   "id": "88b4134f",
   "metadata": {},
   "outputs": [
    {
     "data": {
      "text/plain": [
       "18"
      ]
     },
     "execution_count": 7,
     "metadata": {},
     "output_type": "execute_result"
    }
   ],
   "source": [
    "def multiplybythree(val):\n",
    "    return 3 * val\n",
    "\n",
    "multiplybythree(6)"
   ]
  },
  {
   "cell_type": "code",
   "execution_count": 9,
   "id": "2204004b",
   "metadata": {},
   "outputs": [
    {
     "data": {
      "text/plain": [
       "9"
      ]
     },
     "execution_count": 9,
     "metadata": {},
     "output_type": "execute_result"
    }
   ],
   "source": [
    "def multiply(val1 , val2):\n",
    "    return val1 * val2\n",
    "\n",
    "multiply(9 , 1)"
   ]
  },
  {
   "cell_type": "code",
   "execution_count": 13,
   "id": "3ba5d7a4",
   "metadata": {},
   "outputs": [
    {
     "name": "stdout",
     "output_type": "stream",
     "text": [
      "[1, 2, 3, 4]\n"
     ]
    }
   ],
   "source": [
    "a = [1,2,3]\n",
    "\n",
    "def appendvalue(mylist):\n",
    "    mylist.append(4)\n",
    "    \n",
    "    \n",
    "appendvalue(a)\n",
    "print(a)"
   ]
  },
  {
   "cell_type": "code",
   "execution_count": 14,
   "id": "ad120e33",
   "metadata": {},
   "outputs": [
    {
     "name": "stdout",
     "output_type": "stream",
     "text": [
      "Nishi Gandhi\n",
      "None\n"
     ]
    }
   ],
   "source": [
    "print(print('Nishi Gandhi'))"
   ]
  },
  {
   "cell_type": "code",
   "execution_count": null,
   "id": "0deb1a14",
   "metadata": {},
   "outputs": [],
   "source": []
  }
 ],
 "metadata": {
  "kernelspec": {
   "display_name": "Python 3 (ipykernel)",
   "language": "python",
   "name": "python3"
  },
  "language_info": {
   "codemirror_mode": {
    "name": "ipython",
    "version": 3
   },
   "file_extension": ".py",
   "mimetype": "text/x-python",
   "name": "python",
   "nbconvert_exporter": "python",
   "pygments_lexer": "ipython3",
   "version": "3.11.2"
  }
 },
 "nbformat": 4,
 "nbformat_minor": 5
}
